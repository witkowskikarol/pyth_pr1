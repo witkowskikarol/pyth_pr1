{
 "cells": [
  {
   "cell_type": "code",
   "execution_count": 3,
   "metadata": {},
   "outputs": [],
   "source": [
    "import pandas as pd \n",
    "import numpy as np \n",
    "import matplotlib as plt\n",
    "import seaborn as sns"
   ]
  },
  {
   "cell_type": "code",
   "execution_count": 5,
   "metadata": {},
   "outputs": [
    {
     "data": {
      "text/plain": [
       "<function seaborn.axisgrid.pairplot(data, *, hue=None, hue_order=None, palette=None, vars=None, x_vars=None, y_vars=None, kind='scatter', diag_kind='auto', markers=None, height=2.5, aspect=1, corner=False, dropna=False, plot_kws=None, diag_kws=None, grid_kws=None, size=None)>"
      ]
     },
     "execution_count": 5,
     "metadata": {},
     "output_type": "execute_result"
    }
   ],
   "source": []
  },
  {
   "cell_type": "code",
   "execution_count": 23,
   "metadata": {},
   "outputs": [],
   "source": [
    "df_1 = pd.read_excel('data/bezrobocie.xlsx',sheet_name='DANE')\n",
    "df_2 = pd.read_csv('data/wybory_sejm_2015.csv')\n",
    "df_3 = pd.read_csv('data/wybory_sejm_2019.csv')\n",
    "df_4 = pd.read_csv('data/wybory_sejm_2023.csv')\n",
    "df_5 = pd.read_excel('data/wynagrodzenia.xlsx',sheet_name='DANE')"
   ]
  },
  {
   "cell_type": "code",
   "execution_count": 28,
   "metadata": {},
   "outputs": [
    {
     "name": "stdout",
     "output_type": "stream",
     "text": [
      "<class 'pandas.core.frame.DataFrame'>\n",
      "RangeIndex: 123864 entries, 0 to 123863\n",
      "Data columns (total 8 columns):\n",
      " #   Column           Non-Null Count   Dtype \n",
      "---  ------           --------------   ----- \n",
      " 0   Kod              123864 non-null  int64 \n",
      " 1   Nazwa            123864 non-null  object\n",
      " 2   Miesiące         123864 non-null  object\n",
      " 3   Wskaźniki        123864 non-null  object\n",
      " 4   Rok              123864 non-null  int64 \n",
      " 5   Wartosc          123864 non-null  object\n",
      " 6   Jednostka miary  123864 non-null  object\n",
      " 7   Atrybut          123864 non-null  object\n",
      "dtypes: int64(2), object(6)\n",
      "memory usage: 7.6+ MB\n"
     ]
    }
   ],
   "source": [
    "df_1."
   ]
  }
 ],
 "metadata": {
  "kernelspec": {
   "display_name": ".venv",
   "language": "python",
   "name": "python3"
  },
  "language_info": {
   "codemirror_mode": {
    "name": "ipython",
    "version": 3
   },
   "file_extension": ".py",
   "mimetype": "text/x-python",
   "name": "python",
   "nbconvert_exporter": "python",
   "pygments_lexer": "ipython3",
   "version": "3.9.13"
  }
 },
 "nbformat": 4,
 "nbformat_minor": 2
}
